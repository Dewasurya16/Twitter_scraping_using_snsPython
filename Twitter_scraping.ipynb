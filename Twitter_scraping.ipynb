{
  "nbformat": 4,
  "nbformat_minor": 0,
  "metadata": {
    "colab": {
      "provenance": []
    },
    "kernelspec": {
      "name": "python3",
      "display_name": "Python 3"
    },
    "language_info": {
      "name": "python"
    },
    "accelerator": "GPU",
    "gpuClass": "standard"
  },
  "cells": [
    {
      "cell_type": "code",
      "source": [
        "pip install snscrape"
      ],
      "metadata": {
        "colab": {
          "base_uri": "https://localhost:8080/"
        },
        "id": "8yili8ke84s8",
        "outputId": "7bd30047-92be-40b1-9b51-63664e9939ee"
      },
      "execution_count": 1,
      "outputs": [
        {
          "output_type": "stream",
          "name": "stdout",
          "text": [
            "Looking in indexes: https://pypi.org/simple, https://us-python.pkg.dev/colab-wheels/public/simple/\n",
            "Collecting snscrape\n",
            "  Downloading snscrape-0.3.4-py3-none-any.whl (35 kB)\n",
            "Requirement already satisfied: lxml in /usr/local/lib/python3.7/dist-packages (from snscrape) (4.9.1)\n",
            "Requirement already satisfied: requests[socks] in /usr/local/lib/python3.7/dist-packages (from snscrape) (2.23.0)\n",
            "Requirement already satisfied: beautifulsoup4 in /usr/local/lib/python3.7/dist-packages (from snscrape) (4.6.3)\n",
            "Requirement already satisfied: certifi>=2017.4.17 in /usr/local/lib/python3.7/dist-packages (from requests[socks]->snscrape) (2022.6.15)\n",
            "Requirement already satisfied: idna<3,>=2.5 in /usr/local/lib/python3.7/dist-packages (from requests[socks]->snscrape) (2.10)\n",
            "Requirement already satisfied: urllib3!=1.25.0,!=1.25.1,<1.26,>=1.21.1 in /usr/local/lib/python3.7/dist-packages (from requests[socks]->snscrape) (1.24.3)\n",
            "Requirement already satisfied: chardet<4,>=3.0.2 in /usr/local/lib/python3.7/dist-packages (from requests[socks]->snscrape) (3.0.4)\n",
            "Requirement already satisfied: PySocks!=1.5.7,>=1.5.6 in /usr/local/lib/python3.7/dist-packages (from requests[socks]->snscrape) (1.7.1)\n",
            "Installing collected packages: snscrape\n",
            "Successfully installed snscrape-0.3.4\n"
          ]
        }
      ]
    },
    {
      "cell_type": "code",
      "source": [
        "import snscrape.modules.twitter as sntwitter\n",
        "import pandas as pd\n",
        "\n",
        "query = \"Marah lang:id until:2022-09-03 since:2022-08-10\"\n",
        "tweets = []\n",
        "limit = 500\n",
        "\n",
        "\n",
        "for tweet in sntwitter.TwitterSearchScraper(query).get_items():\n",
        "    \n",
        "    # print(vars(tweet))\n",
        "    # break\n",
        "    if len(tweets) == limit:\n",
        "        break\n",
        "    else:\n",
        "        tweets.append([tweet.date, tweet.username, tweet.content])\n",
        "        \n",
        "df = pd.DataFrame(tweets, columns=['Date', 'User', 'Tweet'])\n",
        "print(df)\n",
        "\n",
        "df.to_csv('tweets.csv')"
      ],
      "metadata": {
        "id": "TAok0Byo8sqT",
        "colab": {
          "base_uri": "https://localhost:8080/"
        },
        "outputId": "519cf383-6727-436a-e8a8-43dd8d636291"
      },
      "execution_count": 7,
      "outputs": [
        {
          "output_type": "stream",
          "name": "stdout",
          "text": [
            "                         Date          User  \\\n",
            "0   2022-09-02 23:59:58+00:00      dxeelune   \n",
            "1   2022-09-02 23:59:39+00:00  akutuhluvchu   \n",
            "2   2022-09-02 23:59:31+00:00   DhimasNdaru   \n",
            "3   2022-09-02 23:59:05+00:00     navigesti   \n",
            "4   2022-09-02 23:58:54+00:00      Iimonare   \n",
            "..                        ...           ...   \n",
            "495 2022-09-02 19:14:10+00:00     doraegmon   \n",
            "496 2022-09-02 19:13:55+00:00     tseungwoo   \n",
            "497 2022-09-02 19:12:38+00:00   YOON9IJIMIN   \n",
            "498 2022-09-02 19:12:10+00:00        siapwa   \n",
            "499 2022-09-02 19:11:45+00:00   fallinreika   \n",
            "\n",
            "                                                 Tweet  \n",
            "0    @convomf marah 2 menit :) https://t.co/Fv2YtSW9pJ  \n",
            "1    paling responnya…\\nmarah balik? atau lari dari...  \n",
            "2    Pria, Jika wanita marah, ajaklah dia berbelanj...  \n",
            "3                    seneng ikut komunitas marah marah  \n",
            "4               @trackliest WKWKW🤭 itu aku kalo marah😾  \n",
            "..                                                 ...  \n",
            "495  Pasti alesannya \"Soalnya aku kalo marah emosin...  \n",
            "496             @wjaeminna Marah marah mulu. Hamil ya?  \n",
            "497  ini kalo g milih bintang, ak marah si😡 https:/...  \n",
            "498  @pwocoyo MARAH BANGET kirain ca sempit tuh gak...  \n",
            "499   @jungkook9seven Wkwk jgn marah dong sayang ku 😭😚  \n",
            "\n",
            "[500 rows x 3 columns]\n"
          ]
        }
      ]
    }
  ]
}